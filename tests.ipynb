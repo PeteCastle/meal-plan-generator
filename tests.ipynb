{
 "cells": [
  {
   "cell_type": "code",
   "execution_count": 22,
   "metadata": {},
   "outputs": [],
   "source": [
    "from customer import Customer\n",
    "import unittest\n",
    "from unittest.mock import patch, Mock   \n",
    "import io"
   ]
  },
  {
   "cell_type": "code",
   "execution_count": 87,
   "metadata": {},
   "outputs": [],
   "source": [
    "# Attempt on integration tests\n",
    "class TestQuestionnaireModule(unittest.TestCase):\n",
    "    VALID_PROFILE = {\n",
    "        \"name\": 'Francis',\n",
    "        \"age\": 20,\n",
    "        \"gender\": 'MALE',\n",
    "    }\n",
    "    def test_customer_inputs(self):\n",
    "        profile = {\n",
    "            \"name\": \"Alice\",\n",
    "            \"age\": 30,\n",
    "            \"gender\" : \"Female\" # must be MALE, FEMALE\n",
    "        }\n",
    "        with self.assertRaises(AssertionError):\n",
    "            c = Customer(profile)\n",
    "            \n",
    "        profile = {\n",
    "            \"name\": \"Alice\",\n",
    "            \"age\": '30', # only int\n",
    "            \"gender\" : \"MALE\" \n",
    "        }\n",
    "        with self.assertRaises(AssertionError):\n",
    "            c = Customer(profile)\n",
    "            \n",
    "        profile = {\n",
    "            \"name\": \"Alice\",\n",
    "            \"age\":  30,\n",
    "            \"gender\" : \"MALE\" \n",
    "        }\n",
    "        c = Customer(profile)\n",
    "    \n",
    "    @patch('builtins.input', side_effect=['12','12','3'])\n",
    "    @patch('sys.stdout', new_callable=io.StringIO)\n",
    "    def test_datetime(self, mock_stdout, mock_input):\n",
    "        customer = Customer(self.VALID_PROFILE)\n",
    "        customer.ask_duration()\n",
    "        std_out = mock_stdout.getvalue()\n",
    "        \n",
    "        self.assertIn('When would you like to start?', std_out)\n",
    "        self.assertIn('December', std_out)\n",
    "        self.assertIn('4 weeks', std_out)\n",
    "    \n",
    "    @patch('builtins.input', side_effect=['month','12','12','3'])\n",
    "    @patch('sys.stdout', new_callable=io.StringIO)\n",
    "    def test_invalid_datetime(self, mock_stdout, mock_input):\n",
    "        customer = Customer(self.VALID_PROFILE)\n",
    "        customer.ask_duration()\n",
    "        std_out = mock_stdout.getvalue()\n",
    "        \n",
    "        self.assertIn('Invalid input.  Please try again.', std_out)\n",
    "        \n",
    "    @patch('builtins.input', side_effect=['invalid input','123123','11','a','3'])\n",
    "    @patch('sys.stdout', new_callable=io.StringIO)\n",
    "    def test_multiple_choice_questions(self, mock_stdout, mock_input):\n",
    "        customer = Customer(self.VALID_PROFILE)\n",
    "        customer.ask_objective()\n",
    "        std_out = mock_stdout.getvalue()\n",
    "        \n",
    "        actual_occurrences = std_out.count('Invalid input.  Please try again.')\n",
    "        self.assertEqual(4, actual_occurrences//2)\n",
    "        self.assertIn('Maintain', std_out)\n",
    "        raise Exception(std_out)"
   ]
  }
 ],
 "metadata": {
  "kernelspec": {
   "display_name": "msds_prog",
   "language": "python",
   "name": "python3"
  },
  "language_info": {
   "codemirror_mode": {
    "name": "ipython",
    "version": 3
   },
   "file_extension": ".py",
   "mimetype": "text/x-python",
   "name": "python",
   "nbconvert_exporter": "python",
   "pygments_lexer": "ipython3",
   "version": "3.12.4"
  }
 },
 "nbformat": 4,
 "nbformat_minor": 2
}
